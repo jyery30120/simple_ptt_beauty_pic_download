{
 "cells": [
  {
   "cell_type": "code",
   "execution_count": 3,
   "metadata": {},
   "outputs": [
    {
     "name": "stdout",
     "output_type": "stream",
     "text": [
      "Collecting selenium\n",
      "  Downloading https://files.pythonhosted.org/packages/80/d6/4294f0b4bce4de0abf13e17190289f9d0613b0a44e5dd6a7f5ca98459853/selenium-3.141.0-py2.py3-none-any.whl (904kB)\n",
      "Requirement already satisfied: urllib3 in d:\\anaconda\\lib\\site-packages (from selenium) (1.24.1)\n",
      "Installing collected packages: selenium\n",
      "Successfully installed selenium-3.141.0\n"
     ]
    }
   ],
   "source": [
    "!pip install selenium"
   ]
  },
  {
   "cell_type": "code",
   "execution_count": 5,
   "metadata": {},
   "outputs": [
    {
     "name": "stdout",
     "output_type": "stream",
     "text": [
      "Collecting request\n",
      "  Downloading https://files.pythonhosted.org/packages/14/03/3985ca165063f8825be231383df7e214551a074b69c8358034b5a6c6d556/request-2018.11.20-py2.py3-none-any.whl\n",
      "Requirement already satisfied: setuptools in d:\\anaconda\\lib\\site-packages (from request) (40.6.3)\n",
      "Collecting post (from request)\n",
      "  Downloading https://files.pythonhosted.org/packages/60/bf/9e3a234021486d3f25edda957f82c7228a6b4ce5b413bc6e771f634a6ba9/post-2018.11.20-py2.py3-none-any.whl\n",
      "Collecting get (from request)\n",
      "  Downloading https://files.pythonhosted.org/packages/77/50/a8f316f095765b6299791f8a2263893a01856036be1c377170a91e4696ed/get-2018.11.19-py2.py3-none-any.whl\n",
      "Collecting query-string (from get->request)\n",
      "  Downloading https://files.pythonhosted.org/packages/a5/b6/7d896d6cdc0660275512e8835ac27ecdddf3540adb8375bb2e5b5ccb56bc/query_string-2018.11.20-py2.py3-none-any.whl\n",
      "Collecting public (from query-string->get->request)\n",
      "  Downloading https://files.pythonhosted.org/packages/36/c8/6dbeeeeb5ae9d897873df6bcdf4141cf8f160fa1e75a8a62d53535ddd19f/public-2018.11.20-py2.py3-none-any.whl\n",
      "Installing collected packages: post, public, query-string, get, request\n",
      "Successfully installed get-2018.11.19 post-2018.11.20 public-2018.11.20 query-string-2018.11.20 request-2018.11.20\n"
     ]
    }
   ],
   "source": [
    "!pip install request"
   ]
  },
  {
   "cell_type": "code",
   "execution_count": 6,
   "metadata": {},
   "outputs": [],
   "source": [
    "from selenium import webdriver\n",
    "from urllib.request import urlopen\n",
    "from bs4 import BeautifulSoup\n",
    "\n",
    "links=[]\n",
    "driver = webdriver.Chrome()\n",
    "driver.get(\"https://www.ptt.cc/bbs/Beauty/M.1515902682.A.579.html\")  ##change this\n",
    "#print(driver.page_source)\n",
    "soup = BeautifulSoup(driver.page_source, 'html.parser')\n",
    "#print(soup)\n",
    "image = soup.find_all(\"a\")\n",
    "for element in image:\n",
    "    #print(element.get('href')[len(element.get('href'))-3:len(element.get('href'))])\n",
    "    if element.get('href')[len(element.get('href'))-3:len(element.get('href'))] == \"jpg\":\n",
    "        links.append(element.get('href'))\n",
    "\n",
    "#print(image)"
   ]
  },
  {
   "cell_type": "code",
   "execution_count": 7,
   "metadata": {},
   "outputs": [
    {
     "name": "stdout",
     "output_type": "stream",
     "text": [
      "['https://i.imgur.com/ZhDyh8E.jpg', 'https://i.imgur.com/68WJuJh.jpg', 'https://i.imgur.com/XC4FciJ.jpg', 'https://i.imgur.com/LjORlFJ.jpg', 'https://i.imgur.com/JigFKN2.jpg', 'https://i.imgur.com/fZksGCd.jpg', 'https://i.imgur.com/PSHnEwb.jpg']\n"
     ]
    }
   ],
   "source": [
    "print(links)"
   ]
  },
  {
   "cell_type": "code",
   "execution_count": 2,
   "metadata": {},
   "outputs": [],
   "source": [
    "import requests"
   ]
  },
  {
   "cell_type": "code",
   "execution_count": 5,
   "metadata": {},
   "outputs": [],
   "source": [
    "img_data = requests.get('https://i.imgur.com/ZhDyh8E.jpg').content\n",
    "with open('image_name.jpg', 'wb') as handler:\n",
    "    handler.write(img_data)"
   ]
  },
  {
   "cell_type": "code",
   "execution_count": 14,
   "metadata": {},
   "outputs": [],
   "source": [
    "a=0\n",
    "for link in links:\n",
    "    img_data = requests.get(link).content\n",
    "    with open(str(a)+'.jpg', 'wb') as handler:\n",
    "        handler.write(img_data)\n",
    "    a=a+1"
   ]
  }
 ],
 "metadata": {
  "kernelspec": {
   "display_name": "Python 3",
   "language": "python",
   "name": "python3"
  },
  "language_info": {
   "codemirror_mode": {
    "name": "ipython",
    "version": 3
   },
   "file_extension": ".py",
   "mimetype": "text/x-python",
   "name": "python",
   "nbconvert_exporter": "python",
   "pygments_lexer": "ipython3",
   "version": "3.6.7"
  }
 },
 "nbformat": 4,
 "nbformat_minor": 2
}
